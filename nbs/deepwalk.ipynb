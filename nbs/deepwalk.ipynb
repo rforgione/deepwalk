{
 "cells": [
  {
   "cell_type": "markdown",
   "metadata": {},
   "source": [
    "# DeepWalk\n",
    "\n",
    "https://arxiv.org/abs/1403.6652\n",
    "\n",
    "Paper and algorithm authored by Bryan Perozzi, Rami Al-Rfou, Steven Skiena\n",
    "\n",
    "Implementation by Rob Forgione"
   ]
  },
  {
   "cell_type": "code",
   "execution_count": null,
   "metadata": {},
   "outputs": [],
   "source": [
    "import numpy as np\n",
    "from abc import ABC"
   ]
  },
  {
   "cell_type": "code",
   "execution_count": null,
   "metadata": {},
   "outputs": [],
   "source": [
    "import pandas as pd"
   ]
  },
  {
   "cell_type": "markdown",
   "metadata": {},
   "source": [
    "# Hierarchical Softmax"
   ]
  },
  {
   "cell_type": "markdown",
   "metadata": {},
   "source": [
    "First, we'll build the components required to use hierarchical softmax. From the paper:\n",
    "\n",
    "> Computing the partition function (normalization factor) is expensive. If we assign the vertices to the\n",
    "leaves of a binary tree, the prediction problem turns into\n",
    "maximizing the probability of a specific path in the tree\n",
    "\n",
    "Thus, instead of having a classifier that predicts probabilities for each word from our vocabulary (besides the one we're currently iterating on), we can structure the loss function as a binary tree where every internal node contains its own binary classifier. Computing the loss (and gradient) can therefore be done in $O(logv)$ predictions rather than $O(v)$ (as is the case with $v$ labels), where $v$ is the number of vertices in our graph. "
   ]
  },
  {
   "cell_type": "code",
   "execution_count": null,
   "metadata": {},
   "outputs": [],
   "source": [
    "class Tree(ABC): \n",
    "    @staticmethod\n",
    "    def merge(dims, lr, batch_size, left=None, right=None):\n",
    "        if left is not None: left.set_left()\n",
    "        if right is not None: right.set_right()\n",
    "        return InternalNode(dims, lr, batch_size, left, right)\n",
    "    \n",
    "    @staticmethod\n",
    "    def build_tree(nodes, dims, lr, batch_size):\n",
    "        if len(nodes) % 2 != 0: nodes.append(None)\n",
    "        while len(nodes) > 1:\n",
    "            nodes = [Tree.merge(dims, lr, batch_size, nodes[i], nodes[i+1]) for i in range(0, len(nodes) - 1, 2)]\n",
    "        return nodes[0]\n",
    "        \n",
    "    def set_parent(self, t):\n",
    "        self.parent = t\n",
    "        \n",
    "    def set_left(self): self.is_right = False\n",
    "        \n",
    "    def set_right(self): self.is_right = True"
   ]
  },
  {
   "cell_type": "code",
   "execution_count": null,
   "metadata": {},
   "outputs": [],
   "source": [
    "class InternalNode(Tree):\n",
    "    def __init__(self, dims, lr, batch_size, left=None, right=None, parent=None, is_right=None):\n",
    "        self.dims = dims\n",
    "        self.set_left_child(left)\n",
    "        self.set_right_child(right)\n",
    "        self.set_parent(parent)\n",
    "        self.is_right = is_right\n",
    "        self.params = np.random.uniform(size=self.dims) \n",
    "        self.gradients = []\n",
    "        self.lr = lr\n",
    "        self.batch_size= batch_size\n",
    "        \n",
    "    def set_left_child(self, child: Tree):\n",
    "        self.left = child\n",
    "        if self.left is not None:\n",
    "            self.left.set_parent(self)\n",
    "            self.left.set_left()\n",
    "            \n",
    "    def set_right_child(self, child: Tree):\n",
    "        self.right = child\n",
    "        if self.right is not None:\n",
    "            self.right.set_parent(self)\n",
    "            self.right.set_right()\n",
    "            \n",
    "    def set_parent(self, parent: Tree):\n",
    "        self.parent = parent    \n",
    "        \n",
    "    def predict(self, embedding, right=True):\n",
    "        d = self.params.dot(embedding) if right else -self.params.dot(embedding)\n",
    "        return 1/(1+np.exp(-d))\n",
    "    \n",
    "    def update_gradients(self, gradient: np.array):\n",
    "        self.gradients.append(gradient)\n",
    "        if len(self.gradients) >= self.batch_size:\n",
    "            avg_gradient = np.stack(self.gradients, axis=0).mean(axis=0)\n",
    "            self.params = self.params - self.lr * avg_gradient\n",
    "            self.gradients = []\n",
    "        \n",
    "    def __eq__(self, other):\n",
    "        return (\n",
    "            self.dims == other.dims and\n",
    "            self.left == other.left and\n",
    "            self.right == other.right and\n",
    "            self.lr == other.lr and\n",
    "            self.batch_size == other.batch_size\n",
    "        )"
   ]
  },
  {
   "cell_type": "code",
   "execution_count": null,
   "metadata": {},
   "outputs": [],
   "source": [
    "class Leaf(Tree):\n",
    "    def __init__(self, vertex, parent: InternalNode = None, is_right = False):\n",
    "        self.parent = parent\n",
    "        self.is_right = is_right \n",
    "        self.vertex = vertex\n",
    "        \n",
    "    def update(self, anchor_vertex):\n",
    "        node = self\n",
    "        gradients = []\n",
    "        total_cost = 0.\n",
    "        emb_grads = []\n",
    "        while node.parent is not None:\n",
    "            is_right = node.is_right\n",
    "            node = node.parent        \n",
    "            prob = node.predict(anchor_vertex.embedding, is_right)\n",
    "            log_prob = np.log(prob)\n",
    "            total_cost -= log_prob\n",
    "            u = 1 - prob\n",
    "            node.update_gradients(u*anchor_vertex.embedding)\n",
    "            emb_grads.append(u*node.params)\n",
    "        anchor_vertex.update_embedding(sum(emb_grads))\n",
    "        return total_cost"
   ]
  },
  {
   "cell_type": "code",
   "execution_count": null,
   "metadata": {},
   "outputs": [],
   "source": [
    "class Vertex(object):\n",
    "    def __init__(self, dim, lr, batch_size):\n",
    "        self.dim = dim\n",
    "        self.embedding = np.random.uniform(size=dim)\n",
    "        self.lr = lr\n",
    "        self.gradients = []\n",
    "        self.batch_size = batch_size\n",
    "        \n",
    "    def update_embedding(self, gradient: np.array): \n",
    "        self.gradients.append(gradient)\n",
    "        if len(self.gradients) >= self.batch_size:\n",
    "            avg_gradient = np.stack(self.gradients, axis=0).mean(axis=0)\n",
    "            self.embedding = self.embedding - self.lr * avg_gradient\n",
    "            self.gradients = []"
   ]
  },
  {
   "cell_type": "code",
   "execution_count": null,
   "metadata": {},
   "outputs": [],
   "source": [
    "v = Vertex(8, 1e-1, 1)\n",
    "v2 = Vertex(8, 1e-1, 1)\n",
    "leaf = Leaf(v)\n",
    "leaf2 = Leaf(v2)\n",
    "i = InternalNode(8, 1e-1, 1, leaf, leaf2)"
   ]
  },
  {
   "cell_type": "code",
   "execution_count": null,
   "metadata": {},
   "outputs": [
    {
     "name": "stdout",
     "output_type": "stream",
     "text": [
      "[0.77027802 0.58836888 0.35300206 0.0014464  0.22192965 0.1276246\n",
      " 0.20752543 0.14350288]\n"
     ]
    }
   ],
   "source": [
    "before = leaf2.vertex.embedding\n",
    "before_parent = leaf.parent.params\n",
    "print(before)"
   ]
  },
  {
   "cell_type": "code",
   "execution_count": null,
   "metadata": {},
   "outputs": [
    {
     "name": "stdout",
     "output_type": "stream",
     "text": [
      "[ 0.74144618  0.54890388  0.3131955  -0.06161681  0.20740709  0.07652359\n",
      "  0.17020474  0.13301454]\n"
     ]
    }
   ],
   "source": [
    "leaf.update(leaf2.vertex)\n",
    "after = leaf2.vertex.embedding\n",
    "after_parent = leaf.parent.params\n",
    "print(after)"
   ]
  },
  {
   "cell_type": "markdown",
   "metadata": {},
   "source": [
    "Leaves 1 and 2 should share parent `i`. Also, each should have its own vertex (`v` and `v2` respectively)."
   ]
  },
  {
   "cell_type": "code",
   "execution_count": null,
   "metadata": {},
   "outputs": [],
   "source": [
    "assert leaf.vertex == v\n",
    "assert leaf.vertex != v2\n",
    "assert leaf2.vertex == v2\n",
    "assert leaf2.vertex != v\n",
    "assert leaf.parent == i\n",
    "assert leaf2.parent == i"
   ]
  },
  {
   "cell_type": "markdown",
   "metadata": {},
   "source": [
    "As a convenience method, we have `Tree.merge` which should do the same thing as the manual passing to the `InternalNode` constructor above."
   ]
  },
  {
   "cell_type": "code",
   "execution_count": null,
   "metadata": {},
   "outputs": [],
   "source": [
    "i2 = Tree.merge(8, 1e-1, 1, leaf, leaf2)"
   ]
  },
  {
   "cell_type": "code",
   "execution_count": null,
   "metadata": {},
   "outputs": [],
   "source": [
    "assert i2 == i"
   ]
  },
  {
   "cell_type": "markdown",
   "metadata": {},
   "source": [
    "We should be able to create an internal node with a single child."
   ]
  },
  {
   "cell_type": "code",
   "execution_count": null,
   "metadata": {},
   "outputs": [],
   "source": [
    "i3 = InternalNode(8, 0.01, 1, leaf)\n",
    "assert i3.left == leaf\n",
    "assert i3.right is None"
   ]
  },
  {
   "cell_type": "markdown",
   "metadata": {},
   "source": [
    "We should be able to combine two internal nodes under a third internal node."
   ]
  },
  {
   "cell_type": "code",
   "execution_count": null,
   "metadata": {},
   "outputs": [],
   "source": [
    "two_internal_nodes = Tree.merge(8, 0.01, 1, i, i2)"
   ]
  },
  {
   "cell_type": "code",
   "execution_count": null,
   "metadata": {},
   "outputs": [],
   "source": [
    "assert two_internal_nodes.left == i\n",
    "assert two_internal_nodes.right == i2\n",
    "assert i.parent == two_internal_nodes\n",
    "assert i2.parent == two_internal_nodes"
   ]
  },
  {
   "cell_type": "code",
   "execution_count": null,
   "metadata": {},
   "outputs": [],
   "source": [
    "p = Tree.merge(8, 1e-1, 1, leaf, leaf2)"
   ]
  },
  {
   "cell_type": "code",
   "execution_count": null,
   "metadata": {},
   "outputs": [
    {
     "data": {
      "text/plain": [
       "True"
      ]
     },
     "execution_count": null,
     "metadata": {},
     "output_type": "execute_result"
    }
   ],
   "source": [
    "leaf.parent == leaf2.parent"
   ]
  },
  {
   "cell_type": "code",
   "execution_count": null,
   "metadata": {},
   "outputs": [
    {
     "data": {
      "text/plain": [
       "array([0.4602706 , 0.52148815, 0.16787686, 0.19344939, 0.16059501,\n",
       "       0.8326034 , 0.79849664, 0.79949193])"
      ]
     },
     "execution_count": null,
     "metadata": {},
     "output_type": "execute_result"
    }
   ],
   "source": [
    "leaf.vertex.embedding"
   ]
  },
  {
   "cell_type": "code",
   "execution_count": null,
   "metadata": {},
   "outputs": [
    {
     "data": {
      "text/plain": [
       "(array([ 0.74144618,  0.54890388,  0.3131955 , -0.06161681,  0.20740709,\n",
       "         0.07652359,  0.17020474,  0.13301454]),\n",
       " array([ 0.72658249,  0.47749223,  0.28422615, -0.07294401,  0.19209589,\n",
       "         0.02513091,  0.13571691,  0.11305331]))"
      ]
     },
     "execution_count": null,
     "metadata": {},
     "output_type": "execute_result"
    }
   ],
   "source": [
    "before = leaf2.vertex.embedding.copy()\n",
    "before_parent = leaf.parent.params.copy()\n",
    "leaf.update(leaf2.vertex)\n",
    "after = leaf2.vertex.embedding\n",
    "after_parent = leaf.parent.params\n",
    "(before, after)"
   ]
  },
  {
   "cell_type": "code",
   "execution_count": null,
   "metadata": {},
   "outputs": [
    {
     "data": {
      "text/plain": [
       "(array([0.25468087, 0.99899743, 0.41200747, 0.14737702, 0.22087984,\n",
       "        0.69520642, 0.47538748, 0.27772132]),\n",
       " array([0.19941653, 0.9580844 , 0.38866317, 0.15196968, 0.20542057,\n",
       "        0.68950267, 0.46270113, 0.26780696]))"
      ]
     },
     "execution_count": null,
     "metadata": {},
     "output_type": "execute_result"
    }
   ],
   "source": [
    "(before_parent, after_parent)"
   ]
  },
  {
   "cell_type": "code",
   "execution_count": null,
   "metadata": {},
   "outputs": [],
   "source": [
    "assert leaf.parent.predict(leaf2.vertex.embedding, right=False) + leaf.parent.predict(leaf2.vertex.embedding)"
   ]
  },
  {
   "cell_type": "code",
   "execution_count": null,
   "metadata": {},
   "outputs": [
    {
     "data": {
      "text/plain": [
       "0.7009057084899384"
      ]
     },
     "execution_count": null,
     "metadata": {},
     "output_type": "execute_result"
    }
   ],
   "source": [
    "leaf.parent.predict(leaf2.vertex.embedding)"
   ]
  },
  {
   "cell_type": "code",
   "execution_count": null,
   "metadata": {},
   "outputs": [
    {
     "data": {
      "text/plain": [
       "(array([0.10464427, 0.01767801, 0.88347935, 0.9525168 , 0.62755352,\n",
       "        0.57944337, 0.11670064, 0.65242133]),\n",
       " array([0.10352386, 0.01153909, 0.88018045, 0.94979943, 0.62004638,\n",
       "        0.57691932, 0.11021097, 0.65083856]))"
      ]
     },
     "execution_count": null,
     "metadata": {},
     "output_type": "execute_result"
    }
   ],
   "source": [
    "new_leaf = Leaf(Vertex(8, 0.01, 1))\n",
    "new_leaf2 = Leaf(Vertex(8, 0.01, 1))\n",
    "merged = Tree.merge(8, 0.01, 1, new_leaf, new_leaf2)\n",
    "before1 = new_leaf2.vertex.embedding.copy()\n",
    "new_leaf.update(new_leaf2.vertex)\n",
    "after1 = new_leaf2.vertex.embedding\n",
    "(before1, after1)"
   ]
  },
  {
   "cell_type": "code",
   "execution_count": null,
   "metadata": {},
   "outputs": [
    {
     "data": {
      "text/plain": [
       "(array([0.7031119 , 0.8004369 , 0.21096607, 0.5014972 , 0.9956049 ,\n",
       "        0.64242036, 0.05852872, 0.45314334]),\n",
       " array([0.70297199, 0.79966694, 0.21055206, 0.50115654, 0.99466334,\n",
       "        0.64210414, 0.05771389, 0.4529451 ]))"
      ]
     },
     "execution_count": null,
     "metadata": {},
     "output_type": "execute_result"
    }
   ],
   "source": [
    "before2 = new_leaf.vertex.embedding.copy()\n",
    "new_leaf2.update(new_leaf.vertex)\n",
    "after2 = new_leaf.vertex.embedding\n",
    "(before2, after2)"
   ]
  },
  {
   "cell_type": "code",
   "execution_count": null,
   "metadata": {},
   "outputs": [],
   "source": [
    "emb_length = 10\n",
    "lr = 1e-3\n",
    "bs = 100\n",
    "v1 = Vertex(emb_length, lr, bs)\n",
    "v2 = Vertex(emb_length, lr, bs)\n",
    "v3 = Vertex(emb_length, lr, bs)\n",
    "random_walk = [v1, v2, v3]\n",
    "leaves = list(map(lambda x: Leaf(x), random_walk))\n",
    "tree = Tree.build_tree(leaves, emb_length, lr, bs)"
   ]
  },
  {
   "cell_type": "code",
   "execution_count": null,
   "metadata": {},
   "outputs": [
    {
     "data": {
      "text/plain": [
       "[<__main__.Leaf at 0x11699ce10>,\n",
       " <__main__.Leaf at 0x11699ceb8>,\n",
       " <__main__.Leaf at 0x11699cef0>,\n",
       " None]"
      ]
     },
     "execution_count": null,
     "metadata": {},
     "output_type": "execute_result"
    }
   ],
   "source": [
    "leaves"
   ]
  },
  {
   "cell_type": "code",
   "execution_count": null,
   "metadata": {},
   "outputs": [
    {
     "data": {
      "text/plain": [
       "__main__.InternalNode"
      ]
     },
     "execution_count": null,
     "metadata": {},
     "output_type": "execute_result"
    }
   ],
   "source": [
    "tree.__class__"
   ]
  },
  {
   "cell_type": "code",
   "execution_count": null,
   "metadata": {},
   "outputs": [
    {
     "data": {
      "text/plain": [
       "((10,), (10,), (10,))"
      ]
     },
     "execution_count": null,
     "metadata": {},
     "output_type": "execute_result"
    }
   ],
   "source": [
    "v1.embedding.shape, v2.embedding.shape, v3.embedding.shape"
   ]
  },
  {
   "cell_type": "code",
   "execution_count": null,
   "metadata": {},
   "outputs": [],
   "source": [
    "leaf1, leaf2, leaf3, empty_leaf = leaves"
   ]
  },
  {
   "cell_type": "code",
   "execution_count": null,
   "metadata": {},
   "outputs": [
    {
     "data": {
      "text/plain": [
       "array([0.74625232, 0.67894755, 0.47256301, 0.47187826, 0.25158632,\n",
       "       0.7468421 , 0.27815159, 0.84906491, 0.25126436, 0.30935769])"
      ]
     },
     "execution_count": null,
     "metadata": {},
     "output_type": "execute_result"
    }
   ],
   "source": [
    "leaf3.vertex.embedding"
   ]
  },
  {
   "cell_type": "code",
   "execution_count": null,
   "metadata": {},
   "outputs": [
    {
     "data": {
      "text/plain": [
       "(<__main__.InternalNode at 0x106416198>,\n",
       " <__main__.InternalNode at 0x106416198>,\n",
       " <__main__.InternalNode at 0x11699ce80>)"
      ]
     },
     "execution_count": null,
     "metadata": {},
     "output_type": "execute_result"
    }
   ],
   "source": [
    "leaf1.parent, leaf2.parent, leaf3.parent"
   ]
  },
  {
   "cell_type": "code",
   "execution_count": null,
   "metadata": {},
   "outputs": [
    {
     "data": {
      "text/plain": [
       "<matplotlib.axes._subplots.AxesSubplot at 0x116d86668>"
      ]
     },
     "execution_count": null,
     "metadata": {},
     "output_type": "execute_result"
    },
    {
     "data": {
      "image/png": "[encoded data removed]",
      "text/plain": [
       "<Figure size 432x288 with 1 Axes>"
      ]
     },
     "metadata": {
      "needs_background": "light"
     },
     "output_type": "display_data"
    }
   ],
   "source": [
    "costs1 = []\n",
    "costs3 = []\n",
    "combined_cost = []\n",
    "for i in range(10000):\n",
    "    cost1 = leaf1.update(leaf2.vertex)\n",
    "    cost3 = leaf3.update(leaf2.vertex)\n",
    "    if i % bs == 0:\n",
    "        costs1.append(cost1) \n",
    "        costs3.append(cost3)\n",
    "        combined_cost.append(cost1+cost3) \n",
    "    \n",
    "pd.Series(costs1).plot(kind='line')"
   ]
  },
  {
   "cell_type": "code",
   "execution_count": null,
   "metadata": {},
   "outputs": [
    {
     "data": {
      "text/plain": [
       "<matplotlib.axes._subplots.AxesSubplot at 0x1170ed9b0>"
      ]
     },
     "execution_count": null,
     "metadata": {},
     "output_type": "execute_result"
    },
    {
     "data": {
      "image/png": "[encoded data removed]",
      "text/plain": [
       "<Figure size 432x288 with 1 Axes>"
      ]
     },
     "metadata": {
      "needs_background": "light"
     },
     "output_type": "display_data"
    }
   ],
   "source": [
    "pd.Series(costs3).plot(kind='line')"
   ]
  },
  {
   "cell_type": "code",
   "execution_count": null,
   "metadata": {},
   "outputs": [
    {
     "data": {
      "text/plain": [
       "<matplotlib.axes._subplots.AxesSubplot at 0x11731ad30>"
      ]
     },
     "execution_count": null,
     "metadata": {},
     "output_type": "execute_result"
    },
    {
     "data": {
      "image/png": "[encoded data removed]",
      "text/plain": [
       "<Figure size 432x288 with 1 Axes>"
      ]
     },
     "metadata": {
      "needs_background": "light"
     },
     "output_type": "display_data"
    }
   ],
   "source": [
    "pd.Series(combined_cost).plot(kind='line')"
   ]
  },
  {
   "cell_type": "code",
   "execution_count": null,
   "metadata": {},
   "outputs": [],
   "source": [
    "emb_length, lr, bs = 10, 1e-4, 100\n",
    "leaves = [Vertex(emb_length, lr, bs) for i in range(100)]"
   ]
  },
  {
   "cell_type": "code",
   "execution_count": null,
   "metadata": {},
   "outputs": [],
   "source": [
    "leaves = [Leaf(v) for v in leaves]"
   ]
  },
  {
   "cell_type": "code",
   "execution_count": null,
   "metadata": {},
   "outputs": [],
   "source": [
    "tree = Tree.build_tree(leaves, emb_length, lr, bs)"
   ]
  },
  {
   "cell_type": "code",
   "execution_count": null,
   "metadata": {},
   "outputs": [],
   "source": [
    "chosen_leaf = leaves[20]"
   ]
  },
  {
   "cell_type": "code",
   "execution_count": null,
   "metadata": {},
   "outputs": [
    {
     "data": {
      "text/plain": [
       "<matplotlib.axes._subplots.AxesSubplot at 0x1173ced68>"
      ]
     },
     "execution_count": null,
     "metadata": {},
     "output_type": "execute_result"
    },
    {
     "data": {
      "image/png": "[encoded data removed]",
      "text/plain": [
       "<Figure size 432x288 with 1 Axes>"
      ]
     },
     "metadata": {
      "needs_background": "light"
     },
     "output_type": "display_data"
    }
   ],
   "source": [
    "#slow\n",
    "costs = []\n",
    "num_iter = 3000\n",
    "epoch_costs = [] \n",
    "for it in range(num_iter):\n",
    "    for i in range(100):\n",
    "        if i == 20:\n",
    "            continue\n",
    "        costs.append(leaves[i].update(chosen_leaf.vertex)) \n",
    "    epoch_costs.append(np.mean(costs))\n",
    "    costs = []\n",
    "s = pd.Series(epoch_costs)\n",
    "s.plot(kind='line')"
   ]
  },
  {
   "cell_type": "markdown",
   "metadata": {},
   "source": [
    "This is an interesting result -- it seems a little unusual that we would see training loss going up, but some things to consider:\n",
    "* In the \"real\" version, the leaf embeddings are (hopefully) going to have some relationship with the internal node model parameters. In this toy version, we've uniformly initialized all parameters and then trained the model on every single leaf for many iterations. It's basically learning how to optimize random noise.\n",
    "* We're using plain vanilla batch GD here, with no learning rate annealing (or any of the wide number of GD enhancements that exist). It's very possible that we're getting gradient explosions / divergence towards the end here. "
   ]
  },
  {
   "cell_type": "markdown",
   "metadata": {},
   "source": [
    "The goal of hierarchical softmax is to make the scoring function run in $O(logv)$ rather than $O(v)$ by organizing the nodes as a binary tree with a binary classifier at each internal node. At a high level, we follow these steps:\n",
    "1. We identify a leaf that is contained within the window of our vertex within the current random walk\n",
    "2. We take that leaf's parent and compute the probability of having followed the correct path (left or right) to the leaf we identified in step 1 by using the model parameters for this internal node combined with the features for the current vertex (which is a row in $\\Phi$).\n",
    "3. We repeat step 2 for all internal nodes until we get to the root\n",
    "4. The product of all of the internal probabilities gives us the probability of seeing a co-occurrence of the neighbor node given what we know about the node we're exploring\n",
    "5. $-logPr(u_k|\\Phi(v_j))$ is our loss function, where $Pr(u_k|\\Phi(v_j))$ is the probability we calculated in step 4\n",
    "6. We use the loss in step 5 to perform a gradient descent step updating both the parameters of our model and $\\Phi(v_j)$:\n",
    "\n",
    "$$\\theta \\leftarrow \\theta - \\alpha_\\theta * \\frac{\\partial J}{\\partial \\theta}$$\n",
    "<br>\n",
    "$$\\Phi \\leftarrow \\Phi - \\alpha_\\Phi * \\frac{\\partial J}{\\partial \\Phi}$$\n",
    "\n",
    "Where $\\theta$ represents all of the parameters of all of the models in the internal nodes of the tree, and $\\Phi$ represents the latent representation of the current vertex."
   ]
  },
  {
   "cell_type": "markdown",
   "metadata": {},
   "source": [
    "# Alternative Approach (NOTE: this is not in use)\n",
    "\n",
    "We could have a matrix $W \\in \\mathbb{R}^{|V| \\times d}$ where $d$ is the embedding size and $|V|$ is the number of internal nodes in the tree, where an internal node is defined as one in or before the penultimate layer of the tree. The probability of each node picking its right child is equal to $\\sigma(Wl)$ where $\\sigma$ is the logistic function and $l$ is the embedding of the listing we're predicting for. We can index into $W$ by taking only the rows that are relevant to the path to the current vertex $v_i$, reducing the dimensionality of $W$ to $\\mathbb{R}^{log(|V|)\\times d}$. We can produce a vector $z$ with $z_i \\in \\{0,1\\}$ such that $z - \\sigma(Wl)$ is the probability of following the path to $v_i$. $z$ is produced by creating an array of length $log(\\gamma) - 1$ and setting the even-positions to the value 1. If the tree has $\\gamma - |V|$ total vertices, then the last $\\gamma - |V|$ elements in the array must therefore be the leaves. "
   ]
  },
  {
   "cell_type": "code",
   "execution_count": null,
   "metadata": {},
   "outputs": [],
   "source": [
    "# np.array([[1,2,3], [4,5,6], [7,8,9]])[[0,2], :]"
   ]
  },
  {
   "cell_type": "code",
   "execution_count": null,
   "metadata": {},
   "outputs": [],
   "source": [
    "# walk = [\"v1\", \"v2\", \"v3\", \"v4\"]"
   ]
  },
  {
   "cell_type": "code",
   "execution_count": null,
   "metadata": {},
   "outputs": [],
   "source": [
    "# in this case \"i\" stands for internal so that it's easy to \n",
    "# visually distinguish between internal nodes and leaves.\n",
    "# tree = [\"i1\", \"i2\", \"i3\", \"v1\", \"v2\", \"v3\", \"v4\"]"
   ]
  },
  {
   "cell_type": "code",
   "execution_count": null,
   "metadata": {},
   "outputs": [],
   "source": [
    "# init_weights = np.random.normal(size=(len(tree), 10))"
   ]
  },
  {
   "cell_type": "code",
   "execution_count": null,
   "metadata": {},
   "outputs": [],
   "source": [
    "# init.shape"
   ]
  },
  {
   "cell_type": "code",
   "execution_count": null,
   "metadata": {},
   "outputs": [],
   "source": [
    "# for i in range(len(tree)):\n",
    "#     rows = []\n",
    "#     idx = len(tree) - 1 - i\n",
    "#     while idx > 0:\n",
    "#         idx = (idx - 1)//2\n",
    "#         rows.append(idx) \n",
    "#     rows = np.array(rows)\n",
    "#     z = (rows % 2 != 0)*1\n",
    "#     if len(rows) > 0:\n",
    "#         mat = init[rows, :]\n",
    "#         print(mat.shape)"
   ]
  },
  {
   "cell_type": "code",
   "execution_count": null,
   "metadata": {},
   "outputs": [],
   "source": [
    "# init[[0,2],:]"
   ]
  },
  {
   "cell_type": "markdown",
   "metadata": {},
   "source": [
    "# Random Walk"
   ]
  },
  {
   "cell_type": "code",
   "execution_count": null,
   "metadata": {},
   "outputs": [],
   "source": [
    "def random_walk(initial_vertex, walk_length, seed=0):\n",
    "    np.random.seed(0)\n",
    "    num_steps = 0\n",
    "    vertex = initial_vertex\n",
    "    walk = []\n",
    "    while num_steps < walk_length:\n",
    "        neighbors = vertex.get_neighbors()\n",
    "        chosen_neighbor = np.random.choice(neighbors)\n",
    "        walk.append(chosen_neighbor)\n",
    "        num_steps += 1\n",
    "        vertex = chosen_neighbor\n",
    "    return walk"
   ]
  },
  {
   "cell_type": "markdown",
   "metadata": {},
   "source": [
    "# Skipgram"
   ]
  },
  {
   "cell_type": "code",
   "execution_count": null,
   "metadata": {},
   "outputs": [],
   "source": [
    "def skipgram(W, window_size):\n",
    "    for i in range(len(W)):\n",
    "        v = W[i]\n",
    "        idx_lower = np.min(i - window_size, 0)\n",
    "        idx_upper = np.max(i + window_size, len(W))\n",
    "        neighbors = W[idx_lower:idx_upper]\n",
    "        for neighbor in neighbors:\n",
    "            neighbor.update(v.vertex)"
   ]
  },
  {
   "cell_type": "markdown",
   "metadata": {},
   "source": [
    "# DeepWalk"
   ]
  },
  {
   "cell_type": "code",
   "execution_count": null,
   "metadata": {},
   "outputs": [],
   "source": [
    "def deepwalk(g, window_size, embedding_size, walks_per_vertex, walk_length):\n",
    "    phi = np.random.uniform(0., 1., (g.size, embedding_size))\n",
    "    for i in range(0, walks_per_vertex): \n",
    "        shuffled_nodes = g.shuffle().nodes()\n",
    "        for v in shuffled_nodes:\n",
    "            W = random_walk(g, v, walk_length)\n",
    "            skipgram(phi, W, window_size)"
   ]
  }
 ],
 "metadata": {
  "kernelspec": {
   "display_name": "Python 3",
   "language": "python",
   "name": "python3"
  }
 },
 "nbformat": 4,
 "nbformat_minor": 4
}
