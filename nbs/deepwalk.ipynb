{
 "cells": [
  {
   "cell_type": "markdown",
   "metadata": {},
   "source": [
    "# DeepWalk\n",
    "\n",
    "https://arxiv.org/abs/1403.6652\n",
    "\n",
    "Paper and algorithm authored by Bryan Perozzi, Rami Al-Rfou, Steven Skiena\n",
    "\n",
    "Implementation by Rob Forgione"
   ]
  },
  {
   "cell_type": "code",
   "execution_count": null,
   "metadata": {},
   "outputs": [],
   "source": [
    "import numpy as np\n",
    "from abc import ABC"
   ]
  },
  {
   "cell_type": "code",
   "execution_count": null,
   "metadata": {},
   "outputs": [],
   "source": [
    "import pandas as pd"
   ]
  },
  {
   "cell_type": "markdown",
   "metadata": {},
   "source": [
    "# Hierarchical Softmax"
   ]
  },
  {
   "cell_type": "markdown",
   "metadata": {},
   "source": [
    "First, we'll build the components required to use hierarchical softmax. From the paper:\n",
    "\n",
    "> Computing the partition function (normalization factor) is expensive. If we assign the vertices to the\n",
    "leaves of a binary tree, the prediction problem turns into\n",
    "maximizing the probability of a specific path in the tree\n",
    "\n",
    "Thus, instead of having a classifier that predicts probabilities for each word from our vocabulary (besides the one we're currently iterating on), we can structure the loss function as a binary tree where every internal node contains its own binary classifier. Computing the loss (and gradient) can therefore be done in $O(logv)$ time rather than $O(v)$ predictions, where $v$ is the number of vertices in our graph. "
   ]
  },
  {
   "cell_type": "code",
   "execution_count": null,
   "metadata": {},
   "outputs": [],
   "source": [
    "class Tree(ABC): \n",
    "    @staticmethod\n",
    "    def merge(dims, lr, batch_size, left, right):\n",
    "        left.set_left()\n",
    "        right.set_right()\n",
    "        return InternalNode(dims, lr, batch_size, left, right)\n",
    "    \n",
    "    @staticmethod\n",
    "    def build_tree(nodes, dims, lr, batch_size):\n",
    "        while len(nodes) > 1:\n",
    "            nodes = [Tree.merge(dims, lr, batch_size, nodes[i], nodes[i+1]) for i in range(0, len(nodes) - 1, 2)]\n",
    "        \n",
    "    def set_parent(self, t):\n",
    "        self.parent = t\n",
    "        \n",
    "    def set_left(self): self.is_right = False\n",
    "        \n",
    "    def set_right(self): self.is_right = True"
   ]
  },
  {
   "cell_type": "code",
   "execution_count": null,
   "metadata": {},
   "outputs": [],
   "source": [
    "class InternalNode(Tree):\n",
    "    def __init__(self, dims, lr, batch_size, left=None, right=None, parent=None, is_right=None):\n",
    "        self.dims = dims\n",
    "        self.set_left_child(left)\n",
    "        self.set_right_child(right)\n",
    "        self.set_parent(parent)\n",
    "        self.is_right = is_right\n",
    "        self.params = np.random.uniform(size=self.dims) \n",
    "        self.gradients = []\n",
    "        self.lr = lr\n",
    "        self.batch_size= batch_size\n",
    "        \n",
    "    def set_left_child(self, child: Tree):\n",
    "        self.left = child\n",
    "        if self.left is not None:\n",
    "            self.left.set_parent(self)\n",
    "            self.left.set_left()\n",
    "            \n",
    "    def set_right_child(self, child: Tree):\n",
    "        self.right = child\n",
    "        if self.right is not None:\n",
    "            self.right.set_parent(self)\n",
    "            self.right.set_right()\n",
    "            \n",
    "    def set_parent(self, parent: Tree):\n",
    "        self.parent = parent    \n",
    "        \n",
    "    def predict(self, embedding, right=True):\n",
    "        d = self.params.dot(embedding) if right else -self.params.dot(embedding)\n",
    "        return 1/(1+np.exp(-d))\n",
    "    \n",
    "    def update_gradients(self, gradient: np.array):\n",
    "        self.gradients.append(gradient)\n",
    "        if len(self.gradients) >= self.batch_size:\n",
    "            avg_gradient = np.stack(self.gradients, axis=0).mean(axis=0)\n",
    "            self.params = self.params - self.lr * avg_gradient\n",
    "            self.gradients = []\n",
    "        \n",
    "    def __eq__(self, other):\n",
    "        return (\n",
    "            self.dims == other.dims and\n",
    "            self.left == other.left and\n",
    "            self.right == other.right and\n",
    "            self.lr == other.lr and\n",
    "            self.batch_size == other.batch_size\n",
    "        )"
   ]
  },
  {
   "cell_type": "code",
   "execution_count": null,
   "metadata": {},
   "outputs": [],
   "source": [
    "class Leaf(Tree):\n",
    "    def __init__(self, vertex, parent: InternalNode = None, is_right = False):\n",
    "        self.parent = parent\n",
    "        self.is_right = is_right \n",
    "        self.vertex = vertex\n",
    "        \n",
    "    def update(self):\n",
    "        node = self\n",
    "        gradients = []\n",
    "        cost = 0.\n",
    "        while node.parent is not None:\n",
    "            is_right = node.is_right\n",
    "            node = node.parent        \n",
    "            d = self.vertex.embedding.dot(node.params) \n",
    "            prob = 1/(1+np.exp(-d)) \n",
    "            if not is_right: prob = 1 - prob # Pr(x=0), i.e. that we go to the left child\n",
    "            cost -= np.log(prob)\n",
    "            u = 1-prob\n",
    "            node.update_gradients(u*self.vertex.embedding)\n",
    "            self.vertex.update_embedding(u*node.params)\n",
    "        return cost"
   ]
  },
  {
   "cell_type": "code",
   "execution_count": null,
   "metadata": {},
   "outputs": [],
   "source": [
    "class Vertex(object):\n",
    "    def __init__(self, dim, lr, batch_size):\n",
    "        self.dim = dim\n",
    "        self.embedding = np.random.uniform(size=dim)\n",
    "        self.lr = lr\n",
    "        self.gradients = []\n",
    "        self.batch_size = batch_size\n",
    "        \n",
    "    def update_embedding(self, gradient: np.array): \n",
    "        self.gradients.append(gradient)\n",
    "        if len(self.gradients) >= self.batch_size:\n",
    "            avg_gradient = np.stack(self.gradients, axis=0).mean(axis=0)\n",
    "            self.embedding = self.embedding - self.lr * avg_gradient\n",
    "            self.gradients = []"
   ]
  },
  {
   "cell_type": "code",
   "execution_count": null,
   "metadata": {},
   "outputs": [],
   "source": [
    "v = Vertex(8, 0.01, 64)\n",
    "v2 = Vertex(8, 0.01, 64)\n",
    "leaf = Leaf(v)\n",
    "leaf2 = Leaf(v2)\n",
    "i = InternalNode(8, 0.01, 64, leaf, leaf2)"
   ]
  },
  {
   "cell_type": "markdown",
   "metadata": {},
   "source": [
    "Leaves 1 and 2 should share parent `i`. Also, each should have its own vertex (`v` and `v2` respectively)."
   ]
  },
  {
   "cell_type": "code",
   "execution_count": null,
   "metadata": {},
   "outputs": [],
   "source": [
    "assert leaf.vertex == v\n",
    "assert leaf.vertex != v2\n",
    "assert leaf2.vertex == v2\n",
    "assert leaf2.vertex != v\n",
    "assert leaf.parent == i\n",
    "assert leaf2.parent == i"
   ]
  },
  {
   "cell_type": "markdown",
   "metadata": {},
   "source": [
    "As a convenience method, we have `Tree.merge` which should do the same thing as the manual passing to the `InternalNode` constructor above."
   ]
  },
  {
   "cell_type": "code",
   "execution_count": null,
   "metadata": {},
   "outputs": [],
   "source": [
    "i2 = Tree.merge(8, 0.01, 64, leaf, leaf2)"
   ]
  },
  {
   "cell_type": "code",
   "execution_count": null,
   "metadata": {},
   "outputs": [],
   "source": [
    "assert i2 == i"
   ]
  },
  {
   "cell_type": "markdown",
   "metadata": {},
   "source": [
    "We should be able to create an internal node with a single child."
   ]
  },
  {
   "cell_type": "code",
   "execution_count": null,
   "metadata": {},
   "outputs": [],
   "source": [
    "i3 = InternalNode(8, 0.01, 64, leaf)\n",
    "assert i3.left == leaf\n",
    "assert i3.right is None"
   ]
  },
  {
   "cell_type": "markdown",
   "metadata": {},
   "source": [
    "We should be able to combine two internal nodes under a third internal node."
   ]
  },
  {
   "cell_type": "code",
   "execution_count": null,
   "metadata": {},
   "outputs": [],
   "source": [
    "two_internal_nodes = Tree.merge(8, 0.01, 64, i, i2)"
   ]
  },
  {
   "cell_type": "code",
   "execution_count": null,
   "metadata": {},
   "outputs": [],
   "source": [
    "assert two_internal_nodes.left == i\n",
    "assert two_internal_nodes.right == i2\n",
    "assert i.parent == two_internal_nodes\n",
    "assert i2.parent == two_internal_nodes"
   ]
  },
  {
   "cell_type": "code",
   "execution_count": null,
   "metadata": {},
   "outputs": [
    {
     "data": {
      "text/plain": [
       "(array([0.30763818, 0.66513099, 0.57271842, 0.72540585, 0.37130314,\n",
       "        0.44024629, 0.6146934 , 0.09601931]),\n",
       " array([0.30763818, 0.66513099, 0.57271842, 0.72540585, 0.37130314,\n",
       "        0.44024629, 0.6146934 , 0.09601931]))"
      ]
     },
     "execution_count": null,
     "metadata": {},
     "output_type": "execute_result"
    }
   ],
   "source": [
    "before = leaf.vertex.embedding\n",
    "leaf.update()\n",
    "after = leaf.vertex.embedding\n",
    "(before, after)"
   ]
  },
  {
   "cell_type": "code",
   "execution_count": null,
   "metadata": {},
   "outputs": [
    {
     "data": {
      "text/plain": [
       "(array([0.37233789, 0.09808419, 0.65716433, 0.13584204, 0.54878061,\n",
       "        0.59081987, 0.62022592, 0.77999748]),\n",
       " array([0.36721893, 0.08977429, 0.65044601, 0.12792969, 0.54570563,\n",
       "        0.58573964, 0.6186456 , 0.77597276]))"
      ]
     },
     "execution_count": null,
     "metadata": {},
     "output_type": "execute_result"
    }
   ],
   "source": [
    "new_leaf = Leaf(Vertex(8, 0.01, 1))\n",
    "new_leaf2 = Leaf(Vertex(8, 0.01, 1))\n",
    "merged = Tree.merge(8, 0.01, 1, new_leaf, new_leaf2)\n",
    "before1 = new_leaf.vertex.embedding\n",
    "new_leaf.update()\n",
    "after1 = new_leaf.vertex.embedding\n",
    "(before1, after1)"
   ]
  },
  {
   "cell_type": "code",
   "execution_count": null,
   "metadata": {},
   "outputs": [
    {
     "data": {
      "text/plain": [
       "(array([0.67268857, 0.34340885, 0.19328866, 0.13595598, 0.70070168,\n",
       "        0.92716844, 0.54535458, 0.43500425]),\n",
       " array([0.6720353 , 0.34234742, 0.19243041, 0.13494509, 0.70030963,\n",
       "        0.92652044, 0.54515332, 0.43449051]))"
      ]
     },
     "execution_count": null,
     "metadata": {},
     "output_type": "execute_result"
    }
   ],
   "source": [
    "before2 = new_leaf2.vertex.embedding\n",
    "new_leaf2.update()\n",
    "after2 = new_leaf2.vertex.embedding\n",
    "(before2, after2)"
   ]
  },
  {
   "cell_type": "code",
   "execution_count": null,
   "metadata": {},
   "outputs": [],
   "source": [
    "emb_length = 100\n",
    "lr = 1e-1\n",
    "v1 = Vertex(emb_length, lr, 100)\n",
    "v2 = Vertex(emb_length, lr, 100)\n",
    "leaf1 = Leaf(v1)\n",
    "leaf2 = Leaf(v2)\n",
    "tree = Tree.merge(emb_length, lr, 100, leaf1, leaf2)"
   ]
  },
  {
   "cell_type": "code",
   "execution_count": null,
   "metadata": {},
   "outputs": [
    {
     "data": {
      "text/plain": [
       "<matplotlib.axes._subplots.AxesSubplot at 0x12d4d0438>"
      ]
     },
     "execution_count": null,
     "metadata": {},
     "output_type": "execute_result"
    },
    {
     "data": {
      "image/png": "[encoded data removed]",
      "text/plain": [
       "<Figure size 432x288 with 1 Axes>"
      ]
     },
     "metadata": {
      "needs_background": "light"
     },
     "output_type": "display_data"
    }
   ],
   "source": [
    "costs1 = []\n",
    "costs2 = []\n",
    "combined_cost = []\n",
    "for i in range(5000):\n",
    "    cost1 = leaf1.update()\n",
    "    cost2 = leaf2.update()\n",
    "    costs1.append(cost1) \n",
    "    costs2.append(cost2)\n",
    "    combined_cost.append(cost1+cost2) \n",
    "    \n",
    "pd.Series(costs1).plot(kind='line')"
   ]
  },
  {
   "cell_type": "code",
   "execution_count": null,
   "metadata": {},
   "outputs": [
    {
     "data": {
      "text/plain": [
       "<matplotlib.axes._subplots.AxesSubplot at 0x12d4c6d68>"
      ]
     },
     "execution_count": null,
     "metadata": {},
     "output_type": "execute_result"
    },
    {
     "data": {
      "image/png": "[encoded data removed]",
      "text/plain": [
       "<Figure size 432x288 with 1 Axes>"
      ]
     },
     "metadata": {
      "needs_background": "light"
     },
     "output_type": "display_data"
    }
   ],
   "source": [
    "pd.Series(costs2).plot(kind='line')"
   ]
  },
  {
   "cell_type": "code",
   "execution_count": null,
   "metadata": {},
   "outputs": [
    {
     "data": {
      "text/plain": [
       "<matplotlib.axes._subplots.AxesSubplot at 0x12d5dc5c0>"
      ]
     },
     "execution_count": null,
     "metadata": {},
     "output_type": "execute_result"
    },
    {
     "data": {
      "image/png": "[encoded data removed]",
      "text/plain": [
       "<Figure size 432x288 with 1 Axes>"
      ]
     },
     "metadata": {
      "needs_background": "light"
     },
     "output_type": "display_data"
    }
   ],
   "source": [
    "pd.Series(combined_cost).plot(kind='line')"
   ]
  },
  {
   "cell_type": "code",
   "execution_count": null,
   "metadata": {},
   "outputs": [],
   "source": [
    "emb_length, lr, bs = 50, 1e-3, 10\n",
    "leaves = [Vertex(emb_length, lr, bs) for i in range(100)]"
   ]
  },
  {
   "cell_type": "code",
   "execution_count": null,
   "metadata": {},
   "outputs": [],
   "source": [
    "leaves = [Leaf(v) for v in leaves]"
   ]
  },
  {
   "cell_type": "code",
   "execution_count": null,
   "metadata": {},
   "outputs": [],
   "source": [
    "tree = Tree.build_tree(leaves, emb_length, lr, bs)"
   ]
  },
  {
   "cell_type": "code",
   "execution_count": null,
   "metadata": {},
   "outputs": [
    {
     "data": {
      "text/plain": [
       "<matplotlib.axes._subplots.AxesSubplot at 0x12db78748>"
      ]
     },
     "execution_count": null,
     "metadata": {},
     "output_type": "execute_result"
    },
    {
     "data": {
      "image/png": "[encoded data removed]",
      "text/plain": [
       "<Figure size 432x288 with 1 Axes>"
      ]
     },
     "metadata": {
      "needs_background": "light"
     },
     "output_type": "display_data"
    }
   ],
   "source": [
    "#slow\n",
    "costs = []\n",
    "epoch_costs = [] \n",
    "num_iter = 1000\n",
    "for _ in range(num_iter):\n",
    "    for leaf in leaves:\n",
    "        costs.append(leaf.update()) \n",
    "    epoch_costs.append(np.mean(costs))\n",
    "    costs = []\n",
    "s = pd.Series(epoch_costs)\n",
    "s.plot(kind='line')"
   ]
  },
  {
   "cell_type": "markdown",
   "metadata": {},
   "source": [
    "This is an interesting result -- it seems a little unusual that we would see training loss going up, but some things to consider:\n",
    "* In the \"real\" version, the leaf embeddings are (hopefully) going to have some relationship with the internal node model parameters. In this toy version, we've uniformly initialized all parameters and then trained the model on every single leaf for many iterations. It's basically learning how to optimize random noise.\n",
    "* We're using plain vanilla batch GD here, with no learning rate annealing (or any of the wide number of GD enhancements that exist). It's very possible that we're getting gradient explosions / divergence towards the end here. "
   ]
  },
  {
   "cell_type": "markdown",
   "metadata": {},
   "source": [
    "The goal of hierarchical softmax is to make the scoring function run in $O(logv)$ rathern than $O(v)$ by organizing the nodes as a binary tree with a binary classifier at each internal node. At a high level, we follow these steps:\n",
    "1. We identify a leaf that is contained within the window of our vertex within the current random walk\n",
    "2. We take that leaf's parent and compute the probability of having followed the correct path (left or right) to the leaf we identified in step 1 by using the model parameters for this internal node combined with the features for the current vertex (which is a row in $\\Phi$).\n",
    "3. We repeat step 2 for all internal nodes until we get to the root\n",
    "4. The product of all of the internal probabilities gives us the probability of seeing a co-occurrence of the neighbor node given what we know about the node we're exploring\n",
    "5. $-logPr(u_k|\\Phi(v_j))$ is our loss function, where $Pr(u_k|\\Phi(v_j))$ is the probability we calculated in step 4\n",
    "6. We use the loss in step 5 to perform a gradient descent step updating both the parameters of our model and $\\Phi(v_j)$:\n",
    "\n",
    "$$\n",
    "\\theta \\leftarrow \\theta - \\alpha_\\theta * \\frac{\\partial J}{\\partial \\theta}\n",
    "\\\\ \n",
    "\\Phi \\leftarrow \\Phi - \\alpha_\\Phi * \\frac{\\partial J}{\\partial \\Phi}\n",
    "$$\n",
    "\n",
    "Where $\\theta$ represents all of the parameters of all of the models in the internal nodes of the tree, and $\\Phi$ represents the latent representation of the current vertex."
   ]
  },
  {
   "cell_type": "markdown",
   "metadata": {},
   "source": [
    "# Skipgram"
   ]
  },
  {
   "cell_type": "code",
   "execution_count": null,
   "metadata": {},
   "outputs": [],
   "source": [
    "def skipgram(phi, W, window_size):\n",
    "    for i in range(len(W)):\n",
    "        v = W[i]\n",
    "        idx_lower = np.min(i - window_size, 0)\n",
    "        idx_upper = np.max(i + window_size, len(W))\n",
    "        neighbors = W[idx_lower:idx_upper] "
   ]
  },
  {
   "cell_type": "markdown",
   "metadata": {},
   "source": [
    "# DeepWalk"
   ]
  },
  {
   "cell_type": "code",
   "execution_count": null,
   "metadata": {},
   "outputs": [],
   "source": [
    "def deepwalk(g, window_size, embedding_size, walks_per_vertex, walk_length):\n",
    "    phi = np.random.uniform(0., 1., (g.size, embedding_size))\n",
    "    for i in range(0, walks_per_vertex): \n",
    "        shuffled_nodes = g.shuffle().nodes()\n",
    "        for v in shuffled_nodes:\n",
    "            W = random_walk(g, v, walk_length)\n",
    "            skipgram(phi, W, window_size)"
   ]
  }
 ],
 "metadata": {
  "kernelspec": {
   "display_name": "Python 3",
   "language": "python",
   "name": "python3"
  }
 },
 "nbformat": 4,
 "nbformat_minor": 4
}
