{
 "cells": [
  {
   "cell_type": "markdown",
   "metadata": {},
   "source": [
    "# DeepWalk\n",
    "\n",
    "https://arxiv.org/abs/1403.6652\n",
    "\n",
    "Paper and algorithm authored by Bryan Perozzi, Rami Al-Rfou, Steven Skiena\n",
    "\n",
    "Implementation by Rob Forgione"
   ]
  },
  {
   "cell_type": "code",
   "execution_count": 13,
   "metadata": {},
   "outputs": [],
   "source": [
    "import numpy as np\n",
    "from abc import ABC"
   ]
  },
  {
   "cell_type": "code",
   "execution_count": 14,
   "metadata": {},
   "outputs": [],
   "source": [
    "class BinaryClassifier(object):\n",
    "    def __init__(self, dims):\n",
    "        self.dims = dims"
   ]
  },
  {
   "cell_type": "code",
   "execution_count": 15,
   "metadata": {},
   "outputs": [],
   "source": [
    "class Tree(ABC): \n",
    "    @staticmethod\n",
    "    def merge(a, b):\n",
    "        return InternalNode(a.dims, a, b, None)\n",
    "    \n",
    "    @staticmethod\n",
    "    def build_tree(nodes):\n",
    "        while len(nodes) > 1:\n",
    "            nodes = [Tree.merge(nodes[i], nodes[i+1]) for i in range(0, len(nodes) - 1, 2)]\n",
    "        \n",
    "    def set_parent(t):\n",
    "        self.parent = t\n",
    "        \n",
    "    def set_left():\n",
    "        self.is_left = True\n",
    "        \n",
    "    def set_right():\n",
    "        self.is_left = False"
   ]
  },
  {
   "cell_type": "code",
   "execution_count": 11,
   "metadata": {},
   "outputs": [],
   "source": [
    "class InternalNode(Tree):\n",
    "    def __init__(self, dims, left=None, right=None, parent=None, is_left=None):\n",
    "        self.dims = dims\n",
    "        self.set_left_child(left, left=True)\n",
    "        self.set_right_child(right, left=False)\n",
    "        self.set_parent(parent)\n",
    "        self.is_left = is_left\n",
    "        \n",
    "    def set_left_child(child: Tree):\n",
    "        self.left = child\n",
    "        self.left.set_parent(self)\n",
    "        self.left.set_left()\n",
    "            \n",
    "    def set_right_child(child: Tree):\n",
    "        self.right = child\n",
    "        self.right.set_parent(self)\n",
    "        self.right.set_right()\n",
    "            \n",
    "    def set_parent(parent: Tree):\n",
    "        self.parent = parent    "
   ]
  },
  {
   "cell_type": "code",
   "execution_count": 12,
   "metadata": {},
   "outputs": [],
   "source": [
    "class Leaf(Tree):\n",
    "    def __init__(self, parent: InternalNode):\n",
    "        self.parent = parent"
   ]
  },
  {
   "cell_type": "markdown",
   "metadata": {},
   "source": [
    "The goal of hierarchical softmax is to make the scoring function run in $O(logv)$ rathern than $O(v)$ by organizing the nodes as a binary tree with a binary classifier at each internal node. At a high level, we follow these steps:\n",
    "1. We identify a leaf that is contained within the window of our vertex within the current random walk\n",
    "2. We take that leaf's parent and compute the probability of having followed the correct path (left or right) to the leaf we identified in step 1 by using the model parameters for this internal node combined with the features for the current vertex (which is a row in $\\Phi$).\n",
    "3. We repeat step 2 for all internal nodes until we get to the root\n",
    "4. The product of all of the internal probabilities gives us the probability of seeing a co-occurrence of the neighbor node given what we know about the node we're exploring\n",
    "5. $-logPr(u_k|\\Phi(v_j))$ is our loss function, where $Pr(u_k|\\Phi(v_j))$ is the probability we calculated in step 4\n",
    "6. We use the loss in step 5 to perform a gradient descent step updating both the parameters of our model and $\\Phi(v_j)$:\n",
    "\n",
    "$$\\theta \\leftarrow \\theta - \\alpha_\\theta * \\frac{\\partial J}{\\partial \\theta}$$\n",
    "$$\\Phi \\leftarrow \\Phi - \\alpha_\\Phi * \\frac{\\partial J}{\\partial \\Phi}$$\n",
    "\n",
    "Where $\\theta$ represents all of the parameters of all of the models in the internal nodes of the tree, and $\\Phi$ represents the latent representation of the current vertex."
   ]
  },
  {
   "cell_type": "code",
   "execution_count": null,
   "metadata": {},
   "outputs": [],
   "source": [
    "def skipgram(phi, W, window_size):\n",
    "    for i in range(len(W)):\n",
    "        v = W[i]\n",
    "        idx_lower = np.min(i - window_size, 0)\n",
    "        idx_upper = np.max(i + window_size, len(W))\n",
    "        neighbors = W[idx_lower:idx_upper] "
   ]
  },
  {
   "cell_type": "code",
   "execution_count": null,
   "metadata": {},
   "outputs": [],
   "source": [
    "def deepwalk(g, window_size, embedding_size, walks_per_vertex, walk_length):\n",
    "    phi = np.random.uniform(0., 1., (g.size, embedding_size))\n",
    "    for i in range(0, walks_per_vertex): \n",
    "        shuffled_nodes = g.shuffle().nodes()\n",
    "        for v in shuffled_nodes:\n",
    "            W = random_walk(g, v, walk_length)\n",
    "            skipgram(phi, W, window_size)"
   ]
  }
 ],
 "metadata": {
  "kernelspec": {
   "display_name": "Python 3",
   "language": "python",
   "name": "python3"
  },
  "language_info": {
   "codemirror_mode": {
    "name": "ipython",
    "version": 3
   },
   "file_extension": ".py",
   "mimetype": "text/x-python",
   "name": "python",
   "nbconvert_exporter": "python",
   "pygments_lexer": "ipython3",
   "version": "3.6.3"
  }
 },
 "nbformat": 4,
 "nbformat_minor": 4
}
